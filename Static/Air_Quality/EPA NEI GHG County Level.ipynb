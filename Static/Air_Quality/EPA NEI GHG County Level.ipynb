{
 "cells": [
  {
   "cell_type": "code",
   "execution_count": 1,
   "metadata": {},
   "outputs": [],
   "source": [
    "import pandas as pd\n",
    "import numpy as np\n",
    "import matplotlib.pyplot as plt\n",
    "pd.set_option('display.max_columns', None)\n",
    "states = [\"AL\", \"AR\", \"AZ\",\"CA\", \"CO\", \"CT\", \"DC\", \"DE\", \"FL\", \"GA\", \"ID\", \"IL\", \"IN\", \"IA\", \"KS\", \"KY\", \"LA\", \"ME\", \"MD\", \"MA\", \"MI\", \"MN\", \"MS\", \"MO\", \"MT\", \"NE\", \"NV\", \"NH\", \"NJ\", \"NM\", \"NY\", \"NC\", \"ND\", \"OH\", \"OK\", \"OR\", \"PA\", \"RI\", \"SC\", \"SD\", \"TN\", \"TX\", \"UT\", \"VT\", \"VA\", \"WA\", \"WV\", \"WI\", \"WY\"]\n",
    "us_state_abbrev = {'the United States':'US','Alabama': 'AL','Alaska': 'AK','American Samoa': 'AS','Arizona': 'AZ','Arkansas': 'AR','California': 'CA','Colorado': 'CO', 'Connecticut': 'CT','Delaware': 'DE','District of Columbia': 'DC', 'Florida': 'FL','Georgia': 'GA','Guam': 'GU','Hawaii': 'HI', 'Idaho': 'ID','Illinois': 'IL','Indiana': 'IN','Iowa': 'IA','Kansas': 'KS','Kentucky': 'KY','Louisiana': 'LA', 'Maine': 'ME','Maryland': 'MD','Massachusetts': 'MA','Michigan': 'MI','Minnesota': 'MN','Mississippi': 'MS','Missouri': 'MO', 'Montana': 'MT','Nebraska': 'NE','Nevada': 'NV','New Hampshire': 'NH','New Jersey': 'NJ','New Mexico': 'NM','New York': 'NY','North Carolina': 'NC', 'North Dakota': 'ND','Northern Mariana Islands':'MP','Ohio': 'OH','Oklahoma': 'OK','Oregon': 'OR','Pennsylvania': 'PA','Puerto Rico': 'PR', 'Rhode Island': 'RI','South Carolina': 'SC','South Dakota': 'SD','Tennessee': 'TN','Texas': 'TX','Utah': 'UT', 'Vermont': 'VT','Virgin Islands': 'VI','Virginia': 'VA','Washington': 'WA','West Virginia': 'WV','Wisconsin': 'WI','Wyoming': 'WY'}\n",
    "abbrev_us_state = dict(map(reversed, us_state_abbrev.items()))"
   ]
  },
  {
   "cell_type": "code",
   "execution_count": 2,
   "metadata": {},
   "outputs": [],
   "source": [
    "dfghg = pd.read_csv('2017 EPA NEI GHG All Sectors/2017_EPA_NEI_GHG.csv',index_col=0)\n",
    "dfghg = dfghg.filter(['state','fips code','county','sector','pollutant code','pollutant desc','total emissions','emissions uom'])"
   ]
  },
  {
   "cell_type": "code",
   "execution_count": 17,
   "metadata": {},
   "outputs": [
    {
     "data": {
      "text/plain": [
       "array(['Mobile - On-Road non-Diesel Heavy Duty Vehicles',\n",
       "       'Mobile - On-Road Diesel Heavy Duty Vehicles',\n",
       "       'Fuel Comb - Industrial Boilers, ICEs - Natural Gas',\n",
       "       'Fires - Prescribed Fires',\n",
       "       'Mobile - Non-Road Equipment - Gasoline',\n",
       "       'Mobile - On-Road non-Diesel Light Duty Vehicles',\n",
       "       'Mobile - Non-Road Equipment - Diesel',\n",
       "       'Mobile - Non-Road Equipment - Other',\n",
       "       'Mobile - On-Road Diesel Light Duty Vehicles',\n",
       "       'Industrial Processes - NEC',\n",
       "       'Solvent - Industrial Surface Coating & Solvent Use',\n",
       "       'Fuel Comb - Industrial Boilers, ICEs - Oil',\n",
       "       'Industrial Processes - Oil & Gas Production',\n",
       "       'Industrial Processes - Non-ferrous Metals',\n",
       "       'Fuel Comb - Electric Generation - Coal',\n",
       "       'Fuel Comb - Industrial Boilers, ICEs - Biomass',\n",
       "       'Fuel Comb - Comm/Institutional - Oil', 'Waste Disposal',\n",
       "       'Fires - Wildfires', 'Mobile - Aircraft',\n",
       "       'Fuel Comb - Comm/Institutional - Natural Gas',\n",
       "       'Fuel Comb - Electric Generation - Natural Gas',\n",
       "       'Fuel Comb - Industrial Boilers, ICEs - Coal',\n",
       "       'Industrial Processes - Petroleum Refineries',\n",
       "       'Fuel Comb - Electric Generation - Biomass',\n",
       "       'Fuel Comb - Comm/Institutional - Other',\n",
       "       'Fuel Comb - Electric Generation - Oil',\n",
       "       'Fuel Comb - Industrial Boilers, ICEs - Other',\n",
       "       'Industrial Processes - Pulp & Paper',\n",
       "       'Industrial Processes - Storage and Transfer',\n",
       "       'Fuel Comb - Comm/Institutional - Coal',\n",
       "       'Fuel Comb - Comm/Institutional - Biomass',\n",
       "       'Fuel Comb - Electric Generation - Other',\n",
       "       'Industrial Processes - Chemical Manuf', 'Solvent - Graphic Arts',\n",
       "       'Mobile - Locomotives', 'Industrial Processes - Ferrous Metals',\n",
       "       'Bulk Gasoline Terminals', 'Solvent - Degreasing',\n",
       "       'Industrial Processes - Cement Manuf', 'Gas Stations',\n",
       "       'Industrial Processes - Mining'], dtype=object)"
      ]
     },
     "execution_count": 17,
     "metadata": {},
     "output_type": "execute_result"
    }
   ],
   "source": [
    "dfghg.sector.unique()"
   ]
  },
  {
   "cell_type": "code",
   "execution_count": 3,
   "metadata": {
    "scrolled": true
   },
   "outputs": [
    {
     "data": {
      "text/html": [
       "<div>\n",
       "<style scoped>\n",
       "    .dataframe tbody tr th:only-of-type {\n",
       "        vertical-align: middle;\n",
       "    }\n",
       "\n",
       "    .dataframe tbody tr th {\n",
       "        vertical-align: top;\n",
       "    }\n",
       "\n",
       "    .dataframe thead th {\n",
       "        text-align: right;\n",
       "    }\n",
       "</style>\n",
       "<table border=\"1\" class=\"dataframe\">\n",
       "  <thead>\n",
       "    <tr style=\"text-align: right;\">\n",
       "      <th></th>\n",
       "      <th>state</th>\n",
       "      <th>fips code</th>\n",
       "      <th>county</th>\n",
       "      <th>sector</th>\n",
       "      <th>pollutant code</th>\n",
       "      <th>pollutant desc</th>\n",
       "      <th>total emissions</th>\n",
       "      <th>emissions uom</th>\n",
       "    </tr>\n",
       "  </thead>\n",
       "  <tbody>\n",
       "    <tr>\n",
       "      <th>0</th>\n",
       "      <td>MN</td>\n",
       "      <td>27001</td>\n",
       "      <td>Aitkin</td>\n",
       "      <td>Mobile - On-Road non-Diesel Heavy Duty Vehicles</td>\n",
       "      <td>CH4</td>\n",
       "      <td>Methane</td>\n",
       "      <td>0.373981</td>\n",
       "      <td>TON</td>\n",
       "    </tr>\n",
       "    <tr>\n",
       "      <th>1</th>\n",
       "      <td>MN</td>\n",
       "      <td>27007</td>\n",
       "      <td>Beltrami</td>\n",
       "      <td>Mobile - On-Road non-Diesel Light Duty Vehicles</td>\n",
       "      <td>CH4</td>\n",
       "      <td>Methane</td>\n",
       "      <td>11.236913</td>\n",
       "      <td>TON</td>\n",
       "    </tr>\n",
       "    <tr>\n",
       "      <th>2</th>\n",
       "      <td>MN</td>\n",
       "      <td>27171</td>\n",
       "      <td>Wright</td>\n",
       "      <td>Mobile - On-Road non-Diesel Heavy Duty Vehicles</td>\n",
       "      <td>CO2</td>\n",
       "      <td>Carbon Dioxide</td>\n",
       "      <td>13707.642502</td>\n",
       "      <td>TON</td>\n",
       "    </tr>\n",
       "    <tr>\n",
       "      <th>3</th>\n",
       "      <td>MN</td>\n",
       "      <td>27031</td>\n",
       "      <td>Cook</td>\n",
       "      <td>Mobile - On-Road non-Diesel Heavy Duty Vehicles</td>\n",
       "      <td>CO2</td>\n",
       "      <td>Carbon Dioxide</td>\n",
       "      <td>979.840261</td>\n",
       "      <td>TON</td>\n",
       "    </tr>\n",
       "    <tr>\n",
       "      <th>4</th>\n",
       "      <td>MN</td>\n",
       "      <td>27081</td>\n",
       "      <td>Lincoln</td>\n",
       "      <td>Mobile - On-Road Diesel Light Duty Vehicles</td>\n",
       "      <td>N2O</td>\n",
       "      <td>Nitrous Oxide</td>\n",
       "      <td>0.002144</td>\n",
       "      <td>TON</td>\n",
       "    </tr>\n",
       "  </tbody>\n",
       "</table>\n",
       "</div>"
      ],
      "text/plain": [
       "  state  fips code    county                                           sector  \\\n",
       "0    MN      27001    Aitkin  Mobile - On-Road non-Diesel Heavy Duty Vehicles   \n",
       "1    MN      27007  Beltrami  Mobile - On-Road non-Diesel Light Duty Vehicles   \n",
       "2    MN      27171    Wright  Mobile - On-Road non-Diesel Heavy Duty Vehicles   \n",
       "3    MN      27031      Cook  Mobile - On-Road non-Diesel Heavy Duty Vehicles   \n",
       "4    MN      27081   Lincoln      Mobile - On-Road Diesel Light Duty Vehicles   \n",
       "\n",
       "  pollutant code  pollutant desc  total emissions emissions uom  \n",
       "0            CH4         Methane         0.373981           TON  \n",
       "1            CH4         Methane        11.236913           TON  \n",
       "2            CO2  Carbon Dioxide     13707.642502           TON  \n",
       "3            CO2  Carbon Dioxide       979.840261           TON  \n",
       "4            N2O   Nitrous Oxide         0.002144           TON  "
      ]
     },
     "execution_count": 3,
     "metadata": {},
     "output_type": "execute_result"
    }
   ],
   "source": [
    "df = dfghg[dfghg.state=='MN'].reset_index(drop=True)\n",
    "df.head()"
   ]
  },
  {
   "cell_type": "code",
   "execution_count": 4,
   "metadata": {},
   "outputs": [],
   "source": [
    "ct_to_fips = dict()\n",
    "for i in df.index:\n",
    "    ct_to_fips[df.at[i,'county']] = df.at[i,'fips code']\n",
    "code_to_desc = dict()\n",
    "for i in df.index:\n",
    "    code_to_desc[df.at[i,'pollutant code']] = df.at[i,'pollutant desc']"
   ]
  },
  {
   "cell_type": "code",
   "execution_count": 14,
   "metadata": {},
   "outputs": [
    {
     "data": {
      "text/plain": [
       "['Fuel Comb - Industrial Boilers, ICEs - Natural Gas',\n",
       " 'Fuel Comb - Industrial Boilers, ICEs - Oil',\n",
       " 'Fuel Comb - Electric Generation - Coal',\n",
       " 'Fuel Comb - Industrial Boilers, ICEs - Biomass',\n",
       " 'Fuel Comb - Comm/Institutional - Oil',\n",
       " 'Fuel Comb - Comm/Institutional - Natural Gas',\n",
       " 'Fuel Comb - Electric Generation - Natural Gas',\n",
       " 'Fuel Comb - Industrial Boilers, ICEs - Coal',\n",
       " 'Fuel Comb - Electric Generation - Biomass',\n",
       " 'Fuel Comb - Comm/Institutional - Other',\n",
       " 'Fuel Comb - Electric Generation - Oil',\n",
       " 'Fuel Comb - Industrial Boilers, ICEs - Other',\n",
       " 'Fuel Comb - Comm/Institutional - Coal',\n",
       " 'Fuel Comb - Comm/Institutional - Biomass',\n",
       " 'Fuel Comb - Electric Generation - Other']"
      ]
     },
     "execution_count": 14,
     "metadata": {},
     "output_type": "execute_result"
    }
   ],
   "source": [
    "[i for i in dfghg.sector.unique() if 'Fuel Comb -' in i]"
   ]
  },
  {
   "cell_type": "code",
   "execution_count": 5,
   "metadata": {},
   "outputs": [],
   "source": [
    "dftot = pd.DataFrame(columns=['state','fips code','county','sector','pollutant code','pollutant desc','total emissions','emissions uom'])\n",
    "\n",
    "for p in df['pollutant code'].unique():\n",
    "    for i in df.county.unique():\n",
    "        temp_df = df[df.county==i].reset_index(drop=True)\n",
    "        cols = [temp_df.at[0,'state'],ct_to_fips[i],i,'Total',p,code_to_desc[p]]\n",
    "        emits = sum(temp_df[temp_df['pollutant code']==p]['total emissions'])\n",
    "        dftot.loc[len(dftot.index)] = cols + [emits,'TON']\n",
    "        \n",
    "for p in df['pollutant code'].unique():\n",
    "    for sector in [i if 'Fuel Comb -' in i for i in df.sector.unique()]\n",
    "    for i in df.county.unique():\n",
    "        temp_df = df[df.county==i].reset_index(drop=True)\n",
    "        cols = [temp_df.at[0,'state'],ct_to_fips[i],i,'Total',p,code_to_desc[p]]\n",
    "        emits = sum(temp_df[temp_df['pollutant code']==p]['total emissions'])\n",
    "        dftot.loc[len(dftot.index)] = cols + [emits,'TON']\n",
    "        \n",
    "dftot = dftot.sort_values(by=['county','pollutant code'])"
   ]
  },
  {
   "cell_type": "code",
   "execution_count": 6,
   "metadata": {},
   "outputs": [
    {
     "data": {
      "text/html": [
       "<div>\n",
       "<style scoped>\n",
       "    .dataframe tbody tr th:only-of-type {\n",
       "        vertical-align: middle;\n",
       "    }\n",
       "\n",
       "    .dataframe tbody tr th {\n",
       "        vertical-align: top;\n",
       "    }\n",
       "\n",
       "    .dataframe thead th {\n",
       "        text-align: right;\n",
       "    }\n",
       "</style>\n",
       "<table border=\"1\" class=\"dataframe\">\n",
       "  <thead>\n",
       "    <tr style=\"text-align: right;\">\n",
       "      <th></th>\n",
       "      <th>state</th>\n",
       "      <th>fips code</th>\n",
       "      <th>county</th>\n",
       "      <th>sector</th>\n",
       "      <th>pollutant code</th>\n",
       "      <th>pollutant desc</th>\n",
       "      <th>total emissions</th>\n",
       "      <th>emissions uom</th>\n",
       "    </tr>\n",
       "  </thead>\n",
       "  <tbody>\n",
       "    <tr>\n",
       "      <th>0</th>\n",
       "      <td>MN</td>\n",
       "      <td>27001</td>\n",
       "      <td>Aitkin</td>\n",
       "      <td>Total</td>\n",
       "      <td>CH4</td>\n",
       "      <td>Methane</td>\n",
       "      <td>287.386635</td>\n",
       "      <td>TON</td>\n",
       "    </tr>\n",
       "    <tr>\n",
       "      <th>352</th>\n",
       "      <td>MN</td>\n",
       "      <td>27001</td>\n",
       "      <td>Aitkin</td>\n",
       "      <td>Total</td>\n",
       "      <td>CH4</td>\n",
       "      <td>Methane</td>\n",
       "      <td>287.386635</td>\n",
       "      <td>TON</td>\n",
       "    </tr>\n",
       "    <tr>\n",
       "      <th>88</th>\n",
       "      <td>MN</td>\n",
       "      <td>27001</td>\n",
       "      <td>Aitkin</td>\n",
       "      <td>Total</td>\n",
       "      <td>CO2</td>\n",
       "      <td>Carbon Dioxide</td>\n",
       "      <td>270588.715687</td>\n",
       "      <td>TON</td>\n",
       "    </tr>\n",
       "    <tr>\n",
       "      <th>440</th>\n",
       "      <td>MN</td>\n",
       "      <td>27001</td>\n",
       "      <td>Aitkin</td>\n",
       "      <td>Total</td>\n",
       "      <td>CO2</td>\n",
       "      <td>Carbon Dioxide</td>\n",
       "      <td>270588.715687</td>\n",
       "      <td>TON</td>\n",
       "    </tr>\n",
       "    <tr>\n",
       "      <th>176</th>\n",
       "      <td>MN</td>\n",
       "      <td>27001</td>\n",
       "      <td>Aitkin</td>\n",
       "      <td>Total</td>\n",
       "      <td>N2O</td>\n",
       "      <td>Nitrous Oxide</td>\n",
       "      <td>4.344749</td>\n",
       "      <td>TON</td>\n",
       "    </tr>\n",
       "  </tbody>\n",
       "</table>\n",
       "</div>"
      ],
      "text/plain": [
       "    state fips code  county sector pollutant code  pollutant desc  \\\n",
       "0      MN     27001  Aitkin  Total            CH4         Methane   \n",
       "352    MN     27001  Aitkin  Total            CH4         Methane   \n",
       "88     MN     27001  Aitkin  Total            CO2  Carbon Dioxide   \n",
       "440    MN     27001  Aitkin  Total            CO2  Carbon Dioxide   \n",
       "176    MN     27001  Aitkin  Total            N2O   Nitrous Oxide   \n",
       "\n",
       "     total emissions emissions uom  \n",
       "0         287.386635           TON  \n",
       "352       287.386635           TON  \n",
       "88     270588.715687           TON  \n",
       "440    270588.715687           TON  \n",
       "176         4.344749           TON  "
      ]
     },
     "execution_count": 6,
     "metadata": {},
     "output_type": "execute_result"
    }
   ],
   "source": [
    "dftot.head()"
   ]
  },
  {
   "cell_type": "code",
   "execution_count": 10,
   "metadata": {
    "scrolled": true
   },
   "outputs": [
    {
     "data": {
      "text/plain": [
       "array(['Mobile - On-Road Diesel Light Duty Vehicles',\n",
       "       'Mobile - On-Road Diesel Heavy Duty Vehicles',\n",
       "       'Mobile - On-Road non-Diesel Light Duty Vehicles',\n",
       "       'Mobile - On-Road non-Diesel Heavy Duty Vehicles', 'Gas Stations',\n",
       "       'Fuel Comb - Comm/Institutional - Oil',\n",
       "       'Fuel Comb - Industrial Boilers, ICEs - Coal',\n",
       "       'Fuel Comb - Industrial Boilers, ICEs - Natural Gas',\n",
       "       'Fuel Comb - Electric Generation - Natural Gas',\n",
       "       'Industrial Processes - Oil & Gas Production',\n",
       "       'Fuel Comb - Comm/Institutional - Natural Gas',\n",
       "       'Fuel Comb - Electric Generation - Coal', 'Waste Disposal',\n",
       "       'Mobile - Locomotives', 'Agriculture - Crops & Livestock Dust',\n",
       "       'Miscellaneous Non-Industrial NEC', 'Commercial Cooking',\n",
       "       'Mobile - Non-Road Equipment - Gasoline',\n",
       "       'Fuel Comb - Industrial Boilers, ICEs - Oil',\n",
       "       'Fuel Comb - Residential - Oil',\n",
       "       'Mobile - Non-Road Equipment - Other',\n",
       "       'Fuel Comb - Residential - Natural Gas',\n",
       "       'Fuel Comb - Residential - Wood',\n",
       "       'Fuel Comb - Industrial Boilers, ICEs - Other',\n",
       "       'Fuel Comb - Comm/Institutional - Other', 'Solvent - Degreasing',\n",
       "       'Industrial Processes - Pulp & Paper',\n",
       "       'Industrial Processes - NEC', 'Bulk Gasoline Terminals',\n",
       "       'Industrial Processes - Chemical Manuf', 'Mobile - Aircraft',\n",
       "       'Mobile - Non-Road Equipment - Diesel',\n",
       "       'Industrial Processes - Storage and Transfer',\n",
       "       'Fuel Comb - Electric Generation - Oil',\n",
       "       'Dust - Construction Dust',\n",
       "       'Fuel Comb - Comm/Institutional - Coal',\n",
       "       'Fuel Comb - Comm/Institutional - Biomass',\n",
       "       'Agriculture - Livestock Waste',\n",
       "       'Solvent - Consumer & Commercial Solvent Use',\n",
       "       'Industrial Processes - Petroleum Refineries',\n",
       "       'Solvent - Industrial Surface Coating & Solvent Use',\n",
       "       'Fires - Wildfires', 'Fuel Comb - Residential - Other',\n",
       "       'Fires - Prescribed Fires',\n",
       "       'Fuel Comb - Industrial Boilers, ICEs - Biomass',\n",
       "       'Solvent - Non-Industrial Surface Coating',\n",
       "       'Mobile - Commercial Marine Vessels', 'Solvent - Graphic Arts',\n",
       "       'Dust - Paved Road Dust', 'Fires - Agricultural Field Burning',\n",
       "       'Industrial Processes - Mining',\n",
       "       'Fuel Comb - Electric Generation - Biomass',\n",
       "       'Dust - Unpaved Road Dust',\n",
       "       'Industrial Processes - Non-ferrous Metals',\n",
       "       'Industrial Processes - Ferrous Metals',\n",
       "       'Fuel Comb - Electric Generation - Other',\n",
       "       'Biogenics - Vegetation and Soil',\n",
       "       'Industrial Processes - Cement Manuf', 'Solvent - Dry Cleaning',\n",
       "       'Agriculture - Fertilizer Application'], dtype=object)"
      ]
     },
     "execution_count": 10,
     "metadata": {},
     "output_type": "execute_result"
    }
   ],
   "source": [
    "df.sector.unique()"
   ]
  },
  {
   "cell_type": "code",
   "execution_count": 7,
   "metadata": {},
   "outputs": [],
   "source": [
    "dfghg = df[df['pollutant type(s)']=='GHG']"
   ]
  },
  {
   "cell_type": "code",
   "execution_count": 9,
   "metadata": {},
   "outputs": [
    {
     "data": {
      "text/plain": [
       "array(['Methane', 'Nitrous Oxide', 'Carbon Dioxide',\n",
       "       'Sulfur Hexafluoride'], dtype=object)"
      ]
     },
     "execution_count": 9,
     "metadata": {},
     "output_type": "execute_result"
    }
   ],
   "source": [
    "df['pollutant type(s)'].unique()\n",
    "dfghg['pollutant desc'].unique()"
   ]
  },
  {
   "cell_type": "code",
   "execution_count": null,
   "metadata": {},
   "outputs": [],
   "source": [
    "emissions = ['Carbon Dioxide','Methane','Nitrous Oxide','Sulfur Hexafluoride']"
   ]
  }
 ],
 "metadata": {
  "kernelspec": {
   "display_name": "Python 3",
   "language": "python",
   "name": "python3"
  },
  "language_info": {
   "codemirror_mode": {
    "name": "ipython",
    "version": 3
   },
   "file_extension": ".py",
   "mimetype": "text/x-python",
   "name": "python",
   "nbconvert_exporter": "python",
   "pygments_lexer": "ipython3",
   "version": "3.7.6"
  }
 },
 "nbformat": 4,
 "nbformat_minor": 4
}
