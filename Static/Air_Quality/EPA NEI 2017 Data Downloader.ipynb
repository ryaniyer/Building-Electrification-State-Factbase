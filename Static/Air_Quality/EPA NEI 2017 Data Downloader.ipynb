{
 "cells": [
  {
   "cell_type": "code",
   "execution_count": 11,
   "metadata": {},
   "outputs": [],
   "source": [
    "import urllib.request as urllib\n",
    "import zipfile\n",
    "import pandas as pd\n",
    "pd.set_option('display.max_columns', None)\n",
    "import os\n",
    "import matplotlib.pyplot as plt\n",
    "import time\n",
    "import numpy as np\n",
    "states = [\"AL\", \"AZ\", \"AR\", \"CA\", \"CO\", \"CT\", \"DC\", \"DE\", \"FL\", \"GA\", \n",
    "          \"ID\", \"IL\", \"IN\", \"IA\", \"KS\", \"KY\", \"LA\", \"ME\", \"MD\", \"MA\", \"MI\", \"MN\", \"MS\", \n",
    "          \"MO\", \"MT\", \"NE\", \"NV\", \"NH\", \"NJ\", \"NM\", \"NY\", \"NC\", \"ND\", \"OH\", \"OK\", \"OR\", \"PA\", \n",
    "          \"RI\", \"SC\", \"SD\", \"TN\", \"TX\", \"UT\", \"VT\", \"VA\", \"WA\", \"WV\", \"WI\", \"WY\"]"
   ]
  },
  {
   "cell_type": "code",
   "execution_count": 3,
   "metadata": {},
   "outputs": [],
   "source": [
    "import ssl\n",
    "ssl._create_default_https_context = ssl._create_unverified_context"
   ]
  },
  {
   "cell_type": "code",
   "execution_count": 4,
   "metadata": {},
   "outputs": [],
   "source": [
    "url = 'https://gaftp.epa.gov/air/nei/2017/data_summaries/2017v1/2017neiJan_county_tribe_allsector.zip'\n",
    "filehandle, _ = urllib.urlretrieve(url)\n",
    "zip_file_object = zipfile.ZipFile(filehandle, 'r')\n",
    "my_file = zip_file_object.namelist()[1]\n",
    "df = pd.read_csv(zip_file_object.open(my_file))\n",
    "zip_file_object.close()"
   ]
  },
  {
   "cell_type": "code",
   "execution_count": 7,
   "metadata": {},
   "outputs": [],
   "source": [
    "my_file = zip_file_object.namelist()[1]\n",
    "df = pd.read_csv(zip_file_object.open(my_file))\n",
    "zip_file_object.close()"
   ]
  },
  {
   "cell_type": "code",
   "execution_count": 9,
   "metadata": {},
   "outputs": [],
   "source": [
    "df = df.filter(['state', 'fips code', 'county', 'sector', 'pollutant desc','pollutant type(s)', 'total emissions', 'emissions uom'])"
   ]
  },
  {
   "cell_type": "code",
   "execution_count": 12,
   "metadata": {},
   "outputs": [
    {
     "data": {
      "text/plain": [
       "array(['HAP', 'CAP', nan, 'CAP/HAP', 'GHG'], dtype=object)"
      ]
     },
     "execution_count": 12,
     "metadata": {},
     "output_type": "execute_result"
    }
   ],
   "source": [
    "df['pollutant type(s)'].unique()"
   ]
  },
  {
   "cell_type": "code",
   "execution_count": 14,
   "metadata": {},
   "outputs": [],
   "source": [
    "dfghg = df[df['pollutant type(s)']=='GHG']\n",
    "dfcap = df[df['pollutant type(s)']=='CAP']"
   ]
  },
  {
   "cell_type": "code",
   "execution_count": 22,
   "metadata": {},
   "outputs": [
    {
     "data": {
      "text/html": [
       "<div>\n",
       "<style scoped>\n",
       "    .dataframe tbody tr th:only-of-type {\n",
       "        vertical-align: middle;\n",
       "    }\n",
       "\n",
       "    .dataframe tbody tr th {\n",
       "        vertical-align: top;\n",
       "    }\n",
       "\n",
       "    .dataframe thead th {\n",
       "        text-align: right;\n",
       "    }\n",
       "</style>\n",
       "<table border=\"1\" class=\"dataframe\">\n",
       "  <thead>\n",
       "    <tr style=\"text-align: right;\">\n",
       "      <th></th>\n",
       "      <th>state</th>\n",
       "      <th>fips code</th>\n",
       "      <th>county</th>\n",
       "      <th>sector</th>\n",
       "      <th>pollutant desc</th>\n",
       "      <th>pollutant type(s)</th>\n",
       "      <th>total emissions</th>\n",
       "      <th>emissions uom</th>\n",
       "    </tr>\n",
       "  </thead>\n",
       "  <tbody>\n",
       "    <tr>\n",
       "      <th>8</th>\n",
       "      <td>GA</td>\n",
       "      <td>13201</td>\n",
       "      <td>Miller</td>\n",
       "      <td>Mobile - On-Road Diesel Light Duty Vehicles</td>\n",
       "      <td>Sulfur Dioxide</td>\n",
       "      <td>CAP</td>\n",
       "      <td>0.016603</td>\n",
       "      <td>TON</td>\n",
       "    </tr>\n",
       "    <tr>\n",
       "      <th>11</th>\n",
       "      <td>GA</td>\n",
       "      <td>13205</td>\n",
       "      <td>Mitchell</td>\n",
       "      <td>Gas Stations</td>\n",
       "      <td>Volatile Organic Compounds</td>\n",
       "      <td>CAP</td>\n",
       "      <td>83.047791</td>\n",
       "      <td>TON</td>\n",
       "    </tr>\n",
       "    <tr>\n",
       "      <th>20</th>\n",
       "      <td>TN</td>\n",
       "      <td>47001</td>\n",
       "      <td>Anderson</td>\n",
       "      <td>Fuel Comb - Comm/Institutional - Oil</td>\n",
       "      <td>PM Condensible</td>\n",
       "      <td>CAP</td>\n",
       "      <td>0.001739</td>\n",
       "      <td>TON</td>\n",
       "    </tr>\n",
       "    <tr>\n",
       "      <th>21</th>\n",
       "      <td>NC</td>\n",
       "      <td>37055</td>\n",
       "      <td>Dare</td>\n",
       "      <td>Mobile - On-Road Diesel Heavy Duty Vehicles</td>\n",
       "      <td>Sulfur Dioxide</td>\n",
       "      <td>CAP</td>\n",
       "      <td>0.362939</td>\n",
       "      <td>TON</td>\n",
       "    </tr>\n",
       "    <tr>\n",
       "      <th>26</th>\n",
       "      <td>GA</td>\n",
       "      <td>13071</td>\n",
       "      <td>Colquitt</td>\n",
       "      <td>Mobile - On-Road Diesel Heavy Duty Vehicles</td>\n",
       "      <td>PM10 Primary (Filt + Cond)</td>\n",
       "      <td>CAP</td>\n",
       "      <td>17.391094</td>\n",
       "      <td>TON</td>\n",
       "    </tr>\n",
       "  </tbody>\n",
       "</table>\n",
       "</div>"
      ],
      "text/plain": [
       "   state  fips code    county                                       sector  \\\n",
       "8     GA      13201    Miller  Mobile - On-Road Diesel Light Duty Vehicles   \n",
       "11    GA      13205  Mitchell                                 Gas Stations   \n",
       "20    TN      47001  Anderson         Fuel Comb - Comm/Institutional - Oil   \n",
       "21    NC      37055      Dare  Mobile - On-Road Diesel Heavy Duty Vehicles   \n",
       "26    GA      13071  Colquitt  Mobile - On-Road Diesel Heavy Duty Vehicles   \n",
       "\n",
       "                pollutant desc pollutant type(s)  total emissions  \\\n",
       "8               Sulfur Dioxide               CAP         0.016603   \n",
       "11  Volatile Organic Compounds               CAP        83.047791   \n",
       "20              PM Condensible               CAP         0.001739   \n",
       "21              Sulfur Dioxide               CAP         0.362939   \n",
       "26  PM10 Primary (Filt + Cond)               CAP        17.391094   \n",
       "\n",
       "   emissions uom  \n",
       "8            TON  \n",
       "11           TON  \n",
       "20           TON  \n",
       "21           TON  \n",
       "26           TON  "
      ]
     },
     "execution_count": 22,
     "metadata": {},
     "output_type": "execute_result"
    }
   ],
   "source": [
    "dfcap.head()"
   ]
  },
  {
   "cell_type": "code",
   "execution_count": null,
   "metadata": {},
   "outputs": [],
   "source": [
    "cap_sums = pd.DataFrame(columns=list(dfcap.columns))"
   ]
  }
 ],
 "metadata": {
  "kernelspec": {
   "display_name": "Python 3",
   "language": "python",
   "name": "python3"
  },
  "language_info": {
   "codemirror_mode": {
    "name": "ipython",
    "version": 3
   },
   "file_extension": ".py",
   "mimetype": "text/x-python",
   "name": "python",
   "nbconvert_exporter": "python",
   "pygments_lexer": "ipython3",
   "version": "3.7.6"
  }
 },
 "nbformat": 4,
 "nbformat_minor": 4
}
