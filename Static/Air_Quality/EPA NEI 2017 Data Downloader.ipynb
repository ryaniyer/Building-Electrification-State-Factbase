{
 "cells": [
  {
   "cell_type": "code",
   "execution_count": 1,
   "metadata": {},
   "outputs": [],
   "source": [
    "import urllib.request as urllib\n",
    "import zipfile\n",
    "import pandas as pd\n",
    "pd.set_option('display.max_columns', None)\n",
    "import os\n",
    "import matplotlib.pyplot as plt\n",
    "import time\n",
    "import numpy as np\n",
    "states = [\"AL\", \"AZ\", \"AR\", \"CA\", \"CO\", \"CT\", \"DC\", \"DE\", \"FL\", \"GA\", \n",
    "          \"ID\", \"IL\", \"IN\", \"IA\", \"KS\", \"KY\", \"LA\", \"ME\", \"MD\", \"MA\", \"MI\", \"MN\", \"MS\", \n",
    "          \"MO\", \"MT\", \"NE\", \"NV\", \"NH\", \"NJ\", \"NM\", \"NY\", \"NC\", \"ND\", \"OH\", \"OK\", \"OR\", \"PA\", \n",
    "          \"RI\", \"SC\", \"SD\", \"TN\", \"TX\", \"UT\", \"VT\", \"VA\", \"WA\", \"WV\", \"WI\", \"WY\"]"
   ]
  },
  {
   "cell_type": "code",
   "execution_count": 2,
   "metadata": {},
   "outputs": [],
   "source": [
    "import ssl\n",
    "ssl._create_default_https_context = ssl._create_unverified_context"
   ]
  },
  {
   "cell_type": "code",
   "execution_count": 87,
   "metadata": {},
   "outputs": [],
   "source": [
    "url = 'https://gaftp.epa.gov/air/nei/2017/data_summaries/2017v1/2017neiJan_county_tribe_allsector.zip'\n",
    "filehandle, _ = urllib.urlretrieve(url)\n",
    "zip_file_object = zipfile.ZipFile(filehandle, 'r')\n",
    "my_file = zip_file_object.namelist()[1]\n",
    "df = pd.read_csv(zip_file_object.open(my_file))\n",
    "zip_file_object.close()"
   ]
  },
  {
   "cell_type": "code",
   "execution_count": 88,
   "metadata": {},
   "outputs": [],
   "source": [
    "df = df.filter(['state', 'fips code', 'county', 'sector', 'pollutant desc','pollutant type(s)', 'total emissions', 'emissions uom'])"
   ]
  },
  {
   "cell_type": "code",
   "execution_count": 89,
   "metadata": {},
   "outputs": [
    {
     "data": {
      "text/plain": [
       "array(['HAP', 'CAP', nan, 'CAP/HAP', 'GHG'], dtype=object)"
      ]
     },
     "execution_count": 89,
     "metadata": {},
     "output_type": "execute_result"
    }
   ],
   "source": [
    "df['pollutant type(s)'].unique()"
   ]
  },
  {
   "cell_type": "code",
   "execution_count": 100,
   "metadata": {},
   "outputs": [],
   "source": [
    "dfghg = df[(df['pollutant type(s)']=='GHG')&(~dfcap.state.isnull())].reset_index(drop=True)\n",
    "dfcap = df[(df['pollutant type(s)']=='CAP')&~dfcap.state.isnull()].reset_index(drop=True)"
   ]
  },
  {
   "cell_type": "code",
   "execution_count": 101,
   "metadata": {},
   "outputs": [],
   "source": [
    "#dfghg.to_csv('2017_EPA_NEI_GHG.csv')\n",
    "#dfcap.to_csv('2017_EPA_NEI_CAP.csv')"
   ]
  },
  {
   "cell_type": "code",
   "execution_count": 93,
   "metadata": {},
   "outputs": [],
   "source": [
    "def get_state_caps_data(sa):\n",
    "    caps = pd.DataFrame(columns=['State','Sector','Pollutant','Total Emissions','Emissions Unit of Measure'])\n",
    "    df2 = dfcap[dfcap['state']==sa]\n",
    "    for p in df2['pollutant desc'].unique():\n",
    "        for s in df2['sector'].unique():\n",
    "            try:\n",
    "                dft2 = df2[(df2['pollutant desc']==p)&(df2['sector']==s)].reset_index(drop=True)\n",
    "                caps.loc[len(caps.index)] = [sa, s, p, sum(dft2['total emissions']), dft2['emissions uom'][0]]\n",
    "            except:\n",
    "                None\n",
    "        dft2 = df2[(df2['pollutant desc']==p)].reset_index(drop=True)\n",
    "        caps.loc[len(caps.index)] = [sa, 'All Sectors', p, sum(dft2['total emissions']), dft2['emissions uom'][0]]\n",
    "    caps = caps.sort_values(by=['Sector']).reset_index(drop=True)\n",
    "    return caps\n",
    "\n",
    "def get_national_caps_data():\n",
    "    caps = pd.DataFrame(columns=['Sector','Pollutant','Total Emissions','Emissions Unit of Measure'])\n",
    "    df2 = dfcap[~dfcap.state.isnull()].state.unique()\n",
    "    for p in df2['pollutant desc'].unique():\n",
    "        for s in df2['sector'].unique():\n",
    "            try:\n",
    "                dft2 = df2[(df2['pollutant desc']==p)&(df2['sector']==s)].reset_index(drop=True)\n",
    "                caps.loc[len(caps.index)] = [s, p, sum(dft2['total emissions']), dft2['emissions uom'][0]]\n",
    "            except:\n",
    "                None\n",
    "        dft2 = df2[(df2['pollutant desc']==p)].reset_index(drop=True)\n",
    "        caps.loc[len(caps.index)] = ['All Sectors', p, sum(dft2['total emissions']), dft2['emissions uom'][0]]\n",
    "    caps = caps.sort_values(by=['Sector']).reset_index(drop=True)\n",
    "    return caps"
   ]
  },
  {
   "cell_type": "code",
   "execution_count": 94,
   "metadata": {},
   "outputs": [
    {
     "data": {
      "text/html": [
       "<div>\n",
       "<style scoped>\n",
       "    .dataframe tbody tr th:only-of-type {\n",
       "        vertical-align: middle;\n",
       "    }\n",
       "\n",
       "    .dataframe tbody tr th {\n",
       "        vertical-align: top;\n",
       "    }\n",
       "\n",
       "    .dataframe thead th {\n",
       "        text-align: right;\n",
       "    }\n",
       "</style>\n",
       "<table border=\"1\" class=\"dataframe\">\n",
       "  <thead>\n",
       "    <tr style=\"text-align: right;\">\n",
       "      <th></th>\n",
       "      <th>State</th>\n",
       "      <th>Sector</th>\n",
       "      <th>Pollutant</th>\n",
       "      <th>Total Emissions</th>\n",
       "      <th>Emissions Unit of Measure</th>\n",
       "    </tr>\n",
       "  </thead>\n",
       "  <tbody>\n",
       "    <tr>\n",
       "      <th>0</th>\n",
       "      <td>WY</td>\n",
       "      <td>Agriculture - Crops &amp; Livestock Dust</td>\n",
       "      <td>PM2.5 Primary (Filt + Cond)</td>\n",
       "      <td>7412.077493</td>\n",
       "      <td>TON</td>\n",
       "    </tr>\n",
       "    <tr>\n",
       "      <th>1</th>\n",
       "      <td>WY</td>\n",
       "      <td>Agriculture - Crops &amp; Livestock Dust</td>\n",
       "      <td>PM10 Filterable</td>\n",
       "      <td>36453.509070</td>\n",
       "      <td>TON</td>\n",
       "    </tr>\n",
       "    <tr>\n",
       "      <th>2</th>\n",
       "      <td>WY</td>\n",
       "      <td>Agriculture - Crops &amp; Livestock Dust</td>\n",
       "      <td>PM2.5 Filterable</td>\n",
       "      <td>7412.077493</td>\n",
       "      <td>TON</td>\n",
       "    </tr>\n",
       "    <tr>\n",
       "      <th>3</th>\n",
       "      <td>WY</td>\n",
       "      <td>Agriculture - Crops &amp; Livestock Dust</td>\n",
       "      <td>PM10 Primary (Filt + Cond)</td>\n",
       "      <td>36453.509070</td>\n",
       "      <td>TON</td>\n",
       "    </tr>\n",
       "    <tr>\n",
       "      <th>4</th>\n",
       "      <td>WY</td>\n",
       "      <td>Agriculture - Fertilizer Application</td>\n",
       "      <td>Ammonia</td>\n",
       "      <td>10243.500000</td>\n",
       "      <td>TON</td>\n",
       "    </tr>\n",
       "  </tbody>\n",
       "</table>\n",
       "</div>"
      ],
      "text/plain": [
       "  State                                Sector                    Pollutant  \\\n",
       "0    WY  Agriculture - Crops & Livestock Dust  PM2.5 Primary (Filt + Cond)   \n",
       "1    WY  Agriculture - Crops & Livestock Dust              PM10 Filterable   \n",
       "2    WY  Agriculture - Crops & Livestock Dust             PM2.5 Filterable   \n",
       "3    WY  Agriculture - Crops & Livestock Dust   PM10 Primary (Filt + Cond)   \n",
       "4    WY  Agriculture - Fertilizer Application                      Ammonia   \n",
       "\n",
       "   Total Emissions Emissions Unit of Measure  \n",
       "0      7412.077493                       TON  \n",
       "1     36453.509070                       TON  \n",
       "2      7412.077493                       TON  \n",
       "3     36453.509070                       TON  \n",
       "4     10243.500000                       TON  "
      ]
     },
     "execution_count": 94,
     "metadata": {},
     "output_type": "execute_result"
    }
   ],
   "source": [
    "caps= get_national_caps_data('WY')\n",
    "caps.head()"
   ]
  },
  {
   "cell_type": "code",
   "execution_count": null,
   "metadata": {},
   "outputs": [],
   "source": []
  }
 ],
 "metadata": {
  "kernelspec": {
   "display_name": "Python 3",
   "language": "python",
   "name": "python3"
  },
  "language_info": {
   "codemirror_mode": {
    "name": "ipython",
    "version": 3
   },
   "file_extension": ".py",
   "mimetype": "text/x-python",
   "name": "python",
   "nbconvert_exporter": "python",
   "pygments_lexer": "ipython3",
   "version": "3.7.6"
  }
 },
 "nbformat": 4,
 "nbformat_minor": 4
}
