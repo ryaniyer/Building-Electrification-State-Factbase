{
 "cells": [
  {
   "cell_type": "code",
   "execution_count": 1,
   "metadata": {},
   "outputs": [],
   "source": [
    "import urllib.request as urllib\n",
    "import zipfile\n",
    "import pandas as pd\n",
    "pd.set_option('display.max_columns', None)\n",
    "import os\n",
    "import matplotlib.pyplot as plt\n",
    "import time\n",
    "import numpy as np\n",
    "states = [\"AL\", \"AZ\", \"AR\", \"CA\", \"CO\", \"CT\", \"DC\", \"DE\", \"FL\", \"GA\", \n",
    "          \"ID\", \"IL\", \"IN\", \"IA\", \"KS\", \"KY\", \"LA\", \"ME\", \"MD\", \"MA\", \"MI\", \"MN\", \"MS\", \n",
    "          \"MO\", \"MT\", \"NE\", \"NV\", \"NH\", \"NJ\", \"NM\", \"NY\", \"NC\", \"ND\", \"OH\", \"OK\", \"OR\", \"PA\", \n",
    "          \"RI\", \"SC\", \"SD\", \"TN\", \"TX\", \"UT\", \"VT\", \"VA\", \"WA\", \"WV\", \"WI\", \"WY\"]"
   ]
  },
  {
   "cell_type": "code",
   "execution_count": 2,
   "metadata": {},
   "outputs": [],
   "source": [
    "import ssl\n",
    "ssl._create_default_https_context = ssl._create_unverified_context"
   ]
  },
  {
   "cell_type": "code",
   "execution_count": 87,
   "metadata": {},
   "outputs": [],
   "source": [
    "url = 'https://gaftp.epa.gov/air/nei/2017/data_summaries/2017v1/2017neiJan_county_tribe_allsector.zip'\n",
    "filehandle, _ = urllib.urlretrieve(url)\n",
    "zip_file_object = zipfile.ZipFile(filehandle, 'r')\n",
    "my_file = zip_file_object.namelist()[1]\n",
    "df = pd.read_csv(zip_file_object.open(my_file))\n",
    "zip_file_object.close()"
   ]
  },
  {
   "cell_type": "code",
   "execution_count": 88,
   "metadata": {},
   "outputs": [],
   "source": [
    "df = df.filter(['state', 'fips code', 'county', 'sector', 'pollutant desc','pollutant type(s)', 'total emissions', 'emissions uom'])"
   ]
  },
  {
   "cell_type": "code",
   "execution_count": 89,
   "metadata": {},
   "outputs": [
    {
     "data": {
      "text/plain": [
       "array(['HAP', 'CAP', nan, 'CAP/HAP', 'GHG'], dtype=object)"
      ]
     },
     "execution_count": 89,
     "metadata": {},
     "output_type": "execute_result"
    }
   ],
   "source": [
    "df['pollutant type(s)'].unique()"
   ]
  },
  {
   "cell_type": "code",
   "execution_count": 139,
   "metadata": {},
   "outputs": [],
   "source": [
    "dfghg = df[(df['pollutant type(s)']=='GHG')&(~dfcap.state.isnull())].reset_index(drop=True)\n",
    "dfcap = df[(df['pollutant type(s)']=='CAP')&~dfcap.state.isnull()].reset_index(drop=True)\n",
    "dfcap = dfcap[(dfcap['pollutant desc']!='PM10 Filterable')&(dfcap['pollutant desc']!='PM Condensible')&(dfcap['pollutant desc']!='PM2.5 Filterable')]"
   ]
  },
  {
   "cell_type": "code",
   "execution_count": 140,
   "metadata": {},
   "outputs": [],
   "source": [
    "dfghg.to_csv('2017_EPA_NEI_GHG.csv')\n",
    "dfcap.to_csv('2017_EPA_NEI_CAP.csv')"
   ]
  },
  {
   "cell_type": "code",
   "execution_count": 118,
   "metadata": {},
   "outputs": [],
   "source": [
    "def get_county_cap_data(sa):\n",
    "    caps = pd.DataFrame(columns=['State','County','Sector','Pollutant','Total Emissions','Emissions Unit of Measure'])\n",
    "    df2 = dfcap[dfcap['state']==sa]\n",
    "    for c in df2['county'].unique():\n",
    "        for p in df2['pollutant desc'].unique():\n",
    "            for s in df2['sector'].unique():\n",
    "                try:\n",
    "                    dft2 = df2[(df2['pollutant desc']==p)&(df2['sector']==s)].reset_index(drop=True)\n",
    "                    caps.loc[len(caps.index)] = [sa, c, s, p, sum(dft2['total emissions']), dft2['emissions uom'][0]]\n",
    "                except:\n",
    "                    None\n",
    "            dft2 = df2[(df2['pollutant desc']==p)].reset_index(drop=True)\n",
    "            caps.loc[len(caps.index)] = [sa, c, 'All Sectors', p, sum(dft2['total emissions']), dft2['emissions uom'][0]]\n",
    "    caps = caps.sort_values(by=['County','Sector','Pollutant']).reset_index(drop=True)\n",
    "    return caps\n",
    "\n",
    "def get_state_cap_data(sa):\n",
    "    caps = pd.DataFrame(columns=['State','Sector','Pollutant','Total Emissions','Emissions Unit of Measure'])\n",
    "    df2 = dfcap[dfcap['state']==sa]\n",
    "    for p in df2['pollutant desc'].unique():\n",
    "        for s in df2['sector'].unique():\n",
    "            try:\n",
    "                dft2 = df2[(df2['pollutant desc']==p)&(df2['sector']==s)].reset_index(drop=True)\n",
    "                caps.loc[len(caps.index)] = [sa, s, p, sum(dft2['total emissions']), dft2['emissions uom'][0]]\n",
    "            except:\n",
    "                None\n",
    "        dft2 = df2[(df2['pollutant desc']==p)].reset_index(drop=True)\n",
    "        caps.loc[len(caps.index)] = [sa, 'All Sectors', p, sum(dft2['total emissions']), dft2['emissions uom'][0]]\n",
    "    caps = caps.sort_values(by=['Sector', 'Pollutant']).reset_index(drop=True)\n",
    "    return caps\n",
    "\n",
    "def get_national_cap_data():\n",
    "    caps = pd.DataFrame(columns=['Sector','Pollutant','Total Emissions','Emissions Unit of Measure'])\n",
    "    df2 = dfcap[~dfcap.state.isnull()].state.unique()\n",
    "    for p in df2['pollutant desc'].unique():\n",
    "        for s in df2['sector'].unique():\n",
    "            try:\n",
    "                dft2 = df2[(df2['pollutant desc']==p)&(df2['sector']==s)].reset_index(drop=True)\n",
    "                caps.loc[len(caps.index)] = [s, p, sum(dft2['total emissions']), dft2['emissions uom'][0]]\n",
    "            except:\n",
    "                None\n",
    "        dft2 = df2[(df2['pollutant desc']==p)].reset_index(drop=True)\n",
    "        caps.loc[len(caps.index)] = ['All Sectors', p, sum(dft2['total emissions']), dft2['emissions uom'][0]]\n",
    "    caps = caps.sort_values(by=['Sector', 'Pollutant']).reset_index(drop=True)\n",
    "    return caps"
   ]
  },
  {
   "cell_type": "code",
   "execution_count": 119,
   "metadata": {},
   "outputs": [],
   "source": [
    "def get_county_ghg_data(sa):\n",
    "    ghgs = pd.DataFrame(columns=['State','County','Sector','Pollutant','Total Emissions','Emissions Unit of Measure'])\n",
    "    df2 = dfghg[dfghg['state']==sa]\n",
    "    for c in df2['county'].unique():\n",
    "        for p in df2['pollutant desc'].unique():\n",
    "            for s in df2['sector'].unique():\n",
    "                try:\n",
    "                    dft2 = df2[(df2['pollutant desc']==p)&(df2['sector']==s)].reset_index(drop=True)\n",
    "                    ghgs.loc[len(ghgs.index)] = [sa, c, s, p, sum(dft2['total emissions']), dft2['emissions uom'][0]]\n",
    "                except:\n",
    "                    None\n",
    "            dft2 = df2[(df2['pollutant desc']==p)].reset_index(drop=True)\n",
    "            ghgs.loc[len(ghgs.index)] = [sa, c, 'All Sectors', p, sum(dft2['total emissions']), dft2['emissions uom'][0]]\n",
    "    ghgs = ghgs.sort_values(by=['County','Sector','Pollutant']).reset_index(drop=True)\n",
    "    return ghgs\n",
    "\n",
    "def get_state_ghg_data(sa):\n",
    "    ghgs = pd.DataFrame(columns=['State','Sector','Pollutant','Total Emissions','Emissions Unit of Measure'])\n",
    "    df2 = dfghg[dfghg['state']==sa]\n",
    "    for p in df2['pollutant desc'].unique():\n",
    "        for s in df2['sector'].unique():\n",
    "            try:\n",
    "                dft2 = df2[(df2['pollutant desc']==p)&(df2['sector']==s)].reset_index(drop=True)\n",
    "                ghgs.loc[len(ghgs.index)] = [sa, s, p, sum(dft2['total emissions']), dft2['emissions uom'][0]]\n",
    "            except:\n",
    "                None\n",
    "        dft2 = df2[(df2['pollutant desc']==p)].reset_index(drop=True)\n",
    "        ghgs.loc[len(ghgs.index)] = [sa, 'All Sectors', p, sum(dft2['total emissions']), dft2['emissions uom'][0]]\n",
    "    ghgs = ghgs.sort_values(by=['Sector','Pollutant']).reset_index(drop=True)\n",
    "    return ghgs\n",
    "\n",
    "def get_national_ghg_data():\n",
    "    ghgs = pd.DataFrame(columns=['Sector','Pollutant','Total Emissions','Emissions Unit of Measure'])\n",
    "    df2 = dfghg[~dfghg.state.isnull()].state.unique()\n",
    "    for p in df2['pollutant desc'].unique():\n",
    "        for s in df2['sector'].unique():\n",
    "            try:\n",
    "                dft2 = df2[(df2['pollutant desc']==p)&(df2['sector']==s)].reset_index(drop=True)\n",
    "                ghgs.loc[len(ghgs.index)] = [s, p, sum(dft2['total emissions']), dft2['emissions uom'][0]]\n",
    "            except:\n",
    "                None\n",
    "        dft2 = df2[(df2['pollutant desc']==p)].reset_index(drop=True)\n",
    "        ghgs.loc[len(ghgs.index)] = ['All Sectors', p, sum(dft2['total emissions']), dft2['emissions uom'][0]]\n",
    "    ghgs = ghgs.sort_values(by=['Sector', 'Pollutant']).reset_index(drop=True)\n",
    "    return ghgs"
   ]
  },
  {
   "cell_type": "code",
   "execution_count": 120,
   "metadata": {},
   "outputs": [],
   "source": [
    "caps= get_state_cap_data('WY')\n",
    "ghgs = get_state_ghg_data('WY')"
   ]
  },
  {
   "cell_type": "code",
   "execution_count": 128,
   "metadata": {},
   "outputs": [],
   "source": [
    "dfnew = pd.concat([caps, ghgs], axis=0).sort_values(by=['Sector','Pollutant'])\n",
    "dftots = dfnew[dfnew['Sector']=='All Sectors']\n",
    "dfnontots = dfnew[dfnew['Sector']!='All Sectors']\n",
    "dfnew = pd.concat([dftots, dfnontots], axis=0)"
   ]
  },
  {
   "cell_type": "code",
   "execution_count": 131,
   "metadata": {},
   "outputs": [
    {
     "data": {
      "text/plain": [
       "array(['Sulfur Dioxide', 'Volatile Organic Compounds', 'PM Condensible',\n",
       "       'PM10 Primary (Filt + Cond)', 'PM10 Filterable',\n",
       "       'PM2.5 Primary (Filt + Cond)', 'Ammonia', 'Nitrogen Oxides',\n",
       "       'PM2.5 Filterable', 'Carbon Monoxide'], dtype=object)"
      ]
     },
     "execution_count": 131,
     "metadata": {},
     "output_type": "execute_result"
    }
   ],
   "source": [
    "dfcap['pollutant desc'].unique()"
   ]
  },
  {
   "cell_type": "code",
   "execution_count": 133,
   "metadata": {},
   "outputs": [
    {
     "data": {
      "text/plain": [
       "array(['Methane', 'Nitrous Oxide', 'Carbon Dioxide',\n",
       "       'Sulfur Hexafluoride'], dtype=object)"
      ]
     },
     "execution_count": 133,
     "metadata": {},
     "output_type": "execute_result"
    }
   ],
   "source": [
    "dfghg['pollutant desc'].unique()"
   ]
  },
  {
   "cell_type": "code",
   "execution_count": 129,
   "metadata": {},
   "outputs": [
    {
     "data": {
      "text/html": [
       "<div>\n",
       "<style scoped>\n",
       "    .dataframe tbody tr th:only-of-type {\n",
       "        vertical-align: middle;\n",
       "    }\n",
       "\n",
       "    .dataframe tbody tr th {\n",
       "        vertical-align: top;\n",
       "    }\n",
       "\n",
       "    .dataframe thead th {\n",
       "        text-align: right;\n",
       "    }\n",
       "</style>\n",
       "<table border=\"1\" class=\"dataframe\">\n",
       "  <thead>\n",
       "    <tr style=\"text-align: right;\">\n",
       "      <th></th>\n",
       "      <th>State</th>\n",
       "      <th>Sector</th>\n",
       "      <th>Pollutant</th>\n",
       "      <th>Total Emissions</th>\n",
       "      <th>Emissions Unit of Measure</th>\n",
       "    </tr>\n",
       "  </thead>\n",
       "  <tbody>\n",
       "    <tr>\n",
       "      <th>7</th>\n",
       "      <td>WY</td>\n",
       "      <td>All Sectors</td>\n",
       "      <td>Ammonia</td>\n",
       "      <td>3.402568e+03</td>\n",
       "      <td>TON</td>\n",
       "    </tr>\n",
       "    <tr>\n",
       "      <th>0</th>\n",
       "      <td>WY</td>\n",
       "      <td>All Sectors</td>\n",
       "      <td>Carbon Dioxide</td>\n",
       "      <td>2.736077e+06</td>\n",
       "      <td>TON</td>\n",
       "    </tr>\n",
       "    <tr>\n",
       "      <th>8</th>\n",
       "      <td>WY</td>\n",
       "      <td>All Sectors</td>\n",
       "      <td>Carbon Monoxide</td>\n",
       "      <td>6.126383e+04</td>\n",
       "      <td>TON</td>\n",
       "    </tr>\n",
       "    <tr>\n",
       "      <th>1</th>\n",
       "      <td>WY</td>\n",
       "      <td>All Sectors</td>\n",
       "      <td>Methane</td>\n",
       "      <td>9.371778e+04</td>\n",
       "      <td>TON</td>\n",
       "    </tr>\n",
       "    <tr>\n",
       "      <th>9</th>\n",
       "      <td>WY</td>\n",
       "      <td>All Sectors</td>\n",
       "      <td>Nitrogen Oxides</td>\n",
       "      <td>4.460858e+04</td>\n",
       "      <td>TON</td>\n",
       "    </tr>\n",
       "    <tr>\n",
       "      <th>2</th>\n",
       "      <td>WY</td>\n",
       "      <td>All Sectors</td>\n",
       "      <td>Nitrous Oxide</td>\n",
       "      <td>8.357210e+00</td>\n",
       "      <td>TON</td>\n",
       "    </tr>\n",
       "    <tr>\n",
       "      <th>10</th>\n",
       "      <td>WY</td>\n",
       "      <td>All Sectors</td>\n",
       "      <td>PM Condensible</td>\n",
       "      <td>3.044453e+02</td>\n",
       "      <td>TON</td>\n",
       "    </tr>\n",
       "    <tr>\n",
       "      <th>11</th>\n",
       "      <td>WY</td>\n",
       "      <td>All Sectors</td>\n",
       "      <td>PM10 Filterable</td>\n",
       "      <td>9.199420e+04</td>\n",
       "      <td>TON</td>\n",
       "    </tr>\n",
       "    <tr>\n",
       "      <th>12</th>\n",
       "      <td>WY</td>\n",
       "      <td>All Sectors</td>\n",
       "      <td>PM10 Primary (Filt + Cond)</td>\n",
       "      <td>9.469706e+04</td>\n",
       "      <td>TON</td>\n",
       "    </tr>\n",
       "    <tr>\n",
       "      <th>13</th>\n",
       "      <td>WY</td>\n",
       "      <td>All Sectors</td>\n",
       "      <td>PM2.5 Filterable</td>\n",
       "      <td>6.227943e+03</td>\n",
       "      <td>TON</td>\n",
       "    </tr>\n",
       "    <tr>\n",
       "      <th>14</th>\n",
       "      <td>WY</td>\n",
       "      <td>All Sectors</td>\n",
       "      <td>PM2.5 Primary (Filt + Cond)</td>\n",
       "      <td>9.266718e+03</td>\n",
       "      <td>TON</td>\n",
       "    </tr>\n",
       "    <tr>\n",
       "      <th>15</th>\n",
       "      <td>WY</td>\n",
       "      <td>All Sectors</td>\n",
       "      <td>Sulfur Dioxide</td>\n",
       "      <td>7.952386e+03</td>\n",
       "      <td>TON</td>\n",
       "    </tr>\n",
       "    <tr>\n",
       "      <th>16</th>\n",
       "      <td>WY</td>\n",
       "      <td>All Sectors</td>\n",
       "      <td>Volatile Organic Compounds</td>\n",
       "      <td>7.902025e+04</td>\n",
       "      <td>TON</td>\n",
       "    </tr>\n",
       "    <tr>\n",
       "      <th>0</th>\n",
       "      <td>WY</td>\n",
       "      <td>Agriculture - Crops &amp; Livestock Dust</td>\n",
       "      <td>PM10 Filterable</td>\n",
       "      <td>1.077215e+04</td>\n",
       "      <td>TON</td>\n",
       "    </tr>\n",
       "    <tr>\n",
       "      <th>1</th>\n",
       "      <td>WY</td>\n",
       "      <td>Agriculture - Crops &amp; Livestock Dust</td>\n",
       "      <td>PM10 Primary (Filt + Cond)</td>\n",
       "      <td>1.196585e+04</td>\n",
       "      <td>TON</td>\n",
       "    </tr>\n",
       "  </tbody>\n",
       "</table>\n",
       "</div>"
      ],
      "text/plain": [
       "   State                                Sector                    Pollutant  \\\n",
       "7     WY                           All Sectors                      Ammonia   \n",
       "0     WY                           All Sectors               Carbon Dioxide   \n",
       "8     WY                           All Sectors              Carbon Monoxide   \n",
       "1     WY                           All Sectors                      Methane   \n",
       "9     WY                           All Sectors              Nitrogen Oxides   \n",
       "2     WY                           All Sectors                Nitrous Oxide   \n",
       "10    WY                           All Sectors               PM Condensible   \n",
       "11    WY                           All Sectors              PM10 Filterable   \n",
       "12    WY                           All Sectors   PM10 Primary (Filt + Cond)   \n",
       "13    WY                           All Sectors             PM2.5 Filterable   \n",
       "14    WY                           All Sectors  PM2.5 Primary (Filt + Cond)   \n",
       "15    WY                           All Sectors               Sulfur Dioxide   \n",
       "16    WY                           All Sectors   Volatile Organic Compounds   \n",
       "0     WY  Agriculture - Crops & Livestock Dust              PM10 Filterable   \n",
       "1     WY  Agriculture - Crops & Livestock Dust   PM10 Primary (Filt + Cond)   \n",
       "\n",
       "    Total Emissions Emissions Unit of Measure  \n",
       "7      3.402568e+03                       TON  \n",
       "0      2.736077e+06                       TON  \n",
       "8      6.126383e+04                       TON  \n",
       "1      9.371778e+04                       TON  \n",
       "9      4.460858e+04                       TON  \n",
       "2      8.357210e+00                       TON  \n",
       "10     3.044453e+02                       TON  \n",
       "11     9.199420e+04                       TON  \n",
       "12     9.469706e+04                       TON  \n",
       "13     6.227943e+03                       TON  \n",
       "14     9.266718e+03                       TON  \n",
       "15     7.952386e+03                       TON  \n",
       "16     7.902025e+04                       TON  \n",
       "0      1.077215e+04                       TON  \n",
       "1      1.196585e+04                       TON  "
      ]
     },
     "execution_count": 129,
     "metadata": {},
     "output_type": "execute_result"
    }
   ],
   "source": [
    "dfnew.head(15)"
   ]
  },
  {
   "cell_type": "code",
   "execution_count": null,
   "metadata": {},
   "outputs": [],
   "source": []
  }
 ],
 "metadata": {
  "kernelspec": {
   "display_name": "Python 3",
   "language": "python",
   "name": "python3"
  },
  "language_info": {
   "codemirror_mode": {
    "name": "ipython",
    "version": 3
   },
   "file_extension": ".py",
   "mimetype": "text/x-python",
   "name": "python",
   "nbconvert_exporter": "python",
   "pygments_lexer": "ipython3",
   "version": "3.7.6"
  }
 },
 "nbformat": 4,
 "nbformat_minor": 4
}
