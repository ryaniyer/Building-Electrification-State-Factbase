{
 "cells": [
  {
   "cell_type": "markdown",
   "metadata": {},
   "source": [
    "To run this script, enter desired start and end year, and run last to cells at the bottom:"
   ]
  },
  {
   "cell_type": "code",
   "execution_count": 4,
   "metadata": {},
   "outputs": [],
   "source": [
    "start_year = 2010\n",
    "end_year = 2019"
   ]
  },
  {
   "cell_type": "markdown",
   "metadata": {},
   "source": [
    "### List of Selected Variable Types:\n",
    "\n",
    "1: Total Number of Housing Units\n",
    "\n",
    "2: House Heating Fuel (Gas, Propane, Electric, Fuel Oil)\n",
    "\n",
    "3: Year Structure Built (2014 or later, 2010-2013, 2000-2009, 1990-1999, 1980-1989, 1970-1979, 1960-1969, 1950-1959, 1940-1949, before 1939)\n",
    "\n",
    "4: Total Units in Structure (1,detached, 1,attached, 2, 3-4, 5-9, 10-19, 20-49, 50+, Mobile home, Boat,RV,van,etc.)\n",
    "\n",
    "5: Number of rooms (1,2,3,4,5,6,7,8,9+, Median Rooms)\n",
    "\n",
    "6: Owner/Renter Data (Owner-occupied, renter-occupied, Average household size of owner-occupied unit, average household size of renter-occupied unit)\n",
    "\n",
    "7: Household Income in Past 12 Months in 2015 Inflation-Adjusted Dollars \n",
    "(Less than 10,000, 10,000-14,999, 15,000 -19,999, ... , 200,000+ )\n",
    "\n",
    "8: Median Household Income\n",
    "\n",
    "9: Total Population\n",
    "\n",
    "Code names are stored in the my_codes variable, label names are associated for each variable to create a readable column name for the .csv output."
   ]
  },
  {
   "cell_type": "code",
   "execution_count": 1,
   "metadata": {},
   "outputs": [],
   "source": [
    "import pandas as pd\n",
    "import censusdata as cd\n",
    "import matplotlib.pyplot as plt\n",
    "pd.set_option('max_columns', None)\n",
    "import time\n",
    "import statistics as stats\n",
    "\n",
    "state_codes = {'*':'*','WA': '53', 'DE': '10', 'DC': '11', 'WI': '55', 'WV': '54', 'HI': '15','FL': '12', 'WY': '56', 'PR': '72', 'NJ': '34', 'NM': '35', 'TX': '48',\n",
    "    'LA': '22', 'NC': '37', 'ND': '38', 'NE': '31', 'TN': '47', 'NY': '36','PA': '42', 'AK': '02', 'NV': '32', 'NH': '33', 'VA': '51', 'CO': '08',\n",
    "    'CA': '06', 'AL': '01', 'AR': '05', 'VT': '50', 'IL': '17', 'GA': '13','IN': '18', 'IA': '19', 'MA': '25', 'AZ': '04', 'ID': '16', 'CT': '09',\n",
    "    'ME': '23', 'MD': '24', 'OK': '40', 'OH': '39', 'UT': '49', 'MO': '29','MN': '27', 'MI': '26', 'RI': '44', 'KS': '20', 'MT': '30', 'MS': '28',\n",
    "    'SC': '45', 'KY': '21', 'OR': '41', 'SD': '46'}\n",
    "\n",
    "incomes = []\n",
    "for s in cd.search('acs5', 2015, 'concept', 'B19001')[306:]:\n",
    "    if(not('M' in s[0])):\n",
    "        incomes.append(s)\n",
    "income_labels = []\n",
    "for i in incomes:\n",
    "    income_labels.append('Household Income: ' + i[2])\n",
    "\n",
    "huc = ['B25001_001E']\n",
    "fuelc = ['B25040_002E','B25040_003E','B25040_004E','B25040_005E','B25040_007E']\n",
    "ybc = ['B25034_002E','B25034_003E','B25034_004E','B25034_005E','B25034_006E','B25034_007E','B25034_008E','B25034_009E','B25034_010E','B25034_011E']\n",
    "uisc = ['B25024_002E','B25024_003E','B25024_004E','B25024_005E','B25024_006E','B25024_007E','B25024_008E','B25024_009E','B25024_010E','B25024_011E']\n",
    "numrc = ['B25017_002E','B25017_003E','B25017_004E','B25017_005E','B25017_006E','B25017_007E','B25017_008E','B25017_009E','B25017_010E', 'B25018_001E']\n",
    "roc = ['B25008_002E','B25008_003E','B25010_002E','B25010_003E']\n",
    "incomesc = ['B19001_001E','B19001_002E','B19001_003E','B19001_004E','B19001_005E','B19001_006E','B19001_007E',\n",
    "            'B19001_008E','B19001_009E','B19001_010E','B19001_011E','B19001_012E','B19001_013E',\n",
    "            'B19001_014E','B19001_015E','B19001_016E','B19001_017E']\n",
    "medinc = ['B19013_001E']\n",
    "totpopc = ['B01003_001E']\n",
    "\n",
    "my_codes = huc + fuelc + ybc + uisc + numrc + roc + incomesc + medinc + totpopc\n",
    "my_codes2 = huc + fuelc + ybc[:-1] + uisc + numrc + roc + incomesc + medinc + totpopc\n",
    "\n",
    "hul = ['Total Housing Units']\n",
    "fuell = ['House Heating Fuel: Gas', 'House Heating Fuel: Propane', 'House Heating Fuel: Electric', 'House Heating Fuel: Fuel Oil', 'House Heating Fuel: Wood']\n",
    "ybl = ['Year Built: 2014 or later', 'Year Built: 2010-2013', 'Year Built: 2000-2009', 'Year Built: 1990-1999', 'Year Built: 1980-1989','Year Built: 1970-1979','Year Built: 1960-1969','Year Built: 1950-1959','Year Built: 1940-1949','Year Built: before 1940']\n",
    "uisl = ['Units in Structure: 1 DETACHED', 'Units in Structure: 1 ATTACHED', 'Units in Structure: 2', 'Units in Structure: 3-4', 'Units in Structure: 5-9', 'Units in Structure: 10-19', 'Units in Structure: 20-49', 'Units in Structure: 50+', 'Units in Structure: Mobile Home', 'Units in Structure: Boat,RV,Van,Etc.']            \n",
    "numrl = ['Number of Rooms: 1','Number of Rooms: 2', 'Number of Rooms: 3','Number of Rooms: 4','Number of Rooms: 5','Number of Rooms: 6','Number of Rooms: 7','Number of Rooms: 8','Number of Rooms: 9+', \"Median Number of Rooms\"]\n",
    "rol = ['Owner-Occupied', 'Renter-Occupied', 'Avg household size of owner-occupied unit', 'Avg household size of renter-occupied unit']\n",
    "medil = ['Median Household Income']\n",
    "totpopl = ['Total Population']\n",
    "\n",
    "\n",
    "my_labels = hul + fuell + ybl + uisl + numrl + rol + income_labels + medil + totpopl\n",
    "my_labels2 = hul + fuell + ybl[1:] + uisl + numrl + rol + income_labels + medil + totpopl\n",
    "\n",
    "codes_to_labels = dict()\n",
    "for i in range(len(my_codes)):\n",
    "    codes_to_labels[my_codes[i]] = my_labels[i]"
   ]
  },
  {
   "cell_type": "code",
   "execution_count": 2,
   "metadata": {},
   "outputs": [],
   "source": [
    "def get_acs_state_data(survey, year):\n",
    "    codes = my_codes\n",
    "    labels = my_labels\n",
    "    if(year<2015):\n",
    "        codes = my_codes2\n",
    "        labels = my_labels2\n",
    "    df = cd.download(survey, year, cd.censusgeo([('state', '*')]), codes)\n",
    "    df.columns = labels\n",
    "    states = []\n",
    "    for i in df.index:\n",
    "        states.append(str(i).split(':')[0])\n",
    "    df = df.reset_index(drop=True)\n",
    "    df2 = pd.DataFrame({'State':states,'Year':[year for _ in df.index]})\n",
    "    df_out = pd.concat([df2, df], axis=1).sort_values(by=['State'])\n",
    "    return df_out"
   ]
  },
  {
   "cell_type": "code",
   "execution_count": 3,
   "metadata": {},
   "outputs": [],
   "source": [
    "def get_acs_county_data(survey, year):\n",
    "    codes = my_codes\n",
    "    labels = my_labels\n",
    "    if(year<2021):\n",
    "        codes = my_codes2\n",
    "        labels = my_labels2\n",
    "    df = cd.download(survey, year, cd.censusgeo([('county', '*')]), codes)\n",
    "    df.columns = labels\n",
    "    states = []\n",
    "    counties = []\n",
    "    fips = []\n",
    "    for i in df.index:\n",
    "        states.append(i.name.split(',')[1].strip(' '))\n",
    "        counties.append(i.name.split(',')[0].strip('County')[:-1])\n",
    "        fips.append(i.geo[0][1] + i.geo[1][1])\n",
    "    df = df.reset_index(drop=True)\n",
    "    df2 = pd.DataFrame({'State':states,'County':counties,'FIPS Code':fips,'Year':[year for _ in df.index]})\n",
    "    df_out = pd.concat([df2, df], axis=1)\n",
    "    return df_out"
   ]
  },
  {
   "cell_type": "code",
   "execution_count": 5,
   "metadata": {},
   "outputs": [],
   "source": [
    "datasets = []\n",
    "for i in range(start_year,end_year+1):\n",
    "    df = get_acs_state_data(survey='acs1',year=i)\n",
    "    us_totals = ['US',df.Year.unique()[0]]\n",
    "    for i in df.columns[2:]:\n",
    "        us_totals.append(sum(df.loc[:,i]))\n",
    "    us_totals[-2] = stats.median(df.loc[:,df.columns[-2]])\n",
    "    df.loc[len(df.index)] = us_totals\n",
    "    datasets.append(df)\n",
    "df_final = pd.concat(datasets, axis=0)\n",
    "df_final.to_csv('2010_2019_ACS1_State_Data.csv')"
   ]
  },
  {
   "cell_type": "code",
   "execution_count": null,
   "metadata": {},
   "outputs": [],
   "source": [
    "datasets = []\n",
    "for i in range(start_year,end_year+1):\n",
    "    df = get_acs_state_data(survey='acs5',year=i)\n",
    "    us_totals = ['US',df.Year.unique()[0]]\n",
    "    for i in df.columns[2:]:\n",
    "        us_totals.append(sum(df.loc[:,i]))\n",
    "    us_totals[-2] = stats.median(df.loc[:,df.columns[-2]])\n",
    "    df.loc[len(df.index)] = us_totals\n",
    "    datasets.append(df)\n",
    "df_final = pd.concat(datasets, axis=0)\n",
    "df_final.to_csv('2010_2019_ACS5_State_Data.csv')"
   ]
  },
  {
   "cell_type": "code",
   "execution_count": null,
   "metadata": {},
   "outputs": [],
   "source": [
    "datasets = []\n",
    "for i in range(start_year,end_year+1):\n",
    "    df = get_acs_county_data(survey='acs5',year=i)\n",
    "    datasets.append(df)\n",
    "df_final = pd.concat(datasets, axis=0)\n",
    "df_final.to_csv('2010_2019_ACS5_County_Data.csv')"
   ]
  }
 ],
 "metadata": {
  "kernelspec": {
   "display_name": "Python 3",
   "language": "python",
   "name": "python3"
  },
  "language_info": {
   "codemirror_mode": {
    "name": "ipython",
    "version": 3
   },
   "file_extension": ".py",
   "mimetype": "text/x-python",
   "name": "python",
   "nbconvert_exporter": "python",
   "pygments_lexer": "ipython3",
   "version": "3.7.6"
  }
 },
 "nbformat": 4,
 "nbformat_minor": 4
}
